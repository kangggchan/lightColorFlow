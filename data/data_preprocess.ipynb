{
 "cells": [
  {
   "cell_type": "code",
   "execution_count": 1,
   "id": "53d44ae1",
   "metadata": {},
   "outputs": [],
   "source": [
    "# notebook: prepare_dataset.ipynb\n",
    "\n",
    "import os\n",
    "import numpy as np\n",
    "from glob import glob\n",
    "from sklearn.model_selection import train_test_split\n",
    "from PIL import Image\n",
    "from tqdm import tqdm\n",
    "\n",
    "# Set directories\n",
    "GRAY_DIR = 'data/processed/grayscale_frames'\n",
    "RGB_DIR = 'data/processed/rgb_frames'\n",
    "SAVE_DIR = 'data/processed/npz_data'\n",
    "os.makedirs(SAVE_DIR, exist_ok=True)\n",
    "\n",
    "def load_frames_from_folder(folder):\n",
    "    \"\"\"Load and normalize frames from a given folder\"\"\"\n",
    "    frame_files = sorted(glob(os.path.join(folder, '*.png')))\n",
    "    frames = []\n",
    "    for file in frame_files:\n",
    "        img = Image.open(file).convert('L' if 'grayscale' in folder else 'RGB')\n",
    "        img = img.resize((512, 512))  # Resize if needed\n",
    "        arr = np.asarray(img, dtype=np.float32) / 255.0\n",
    "        if len(arr.shape) == 2:  # Grayscale\n",
    "            arr = arr[..., np.newaxis]\n",
    "        frames.append(arr)\n",
    "    return np.stack(frames)\n",
    "\n",
    "def prepare_dataset():\n",
    "    grayscale_data, rgb_data = [], []\n",
    "\n",
    "    for video_name in sorted(os.listdir(GRAY_DIR)):\n",
    "        gray_video_path = os.path.join(GRAY_DIR, video_name)\n",
    "        rgb_video_path = os.path.join(RGB_DIR, video_name)\n",
    "        \n",
    "        if not os.path.isdir(gray_video_path) or not os.path.isdir(rgb_video_path):\n",
    "            continue\n",
    "\n",
    "        print(f\"Processing {video_name}...\")\n",
    "        gray_frames = load_frames_from_folder(gray_video_path)\n",
    "        rgb_frames = load_frames_from_folder(rgb_video_path)\n",
    "\n",
    "        if gray_frames.shape[0] != rgb_frames.shape[0]:\n",
    "            print(f\"⚠️ Frame mismatch in {video_name}, skipping.\")\n",
    "            continue\n",
    "        \n",
    "        grayscale_data.append(gray_frames)\n",
    "        rgb_data.append(rgb_frames)\n",
    "\n",
    "    X = np.concatenate(grayscale_data, axis=0)\n",
    "    y = np.concatenate(rgb_data, axis=0)\n",
    "    print(f\"Total samples: {X.shape[0]}\")\n",
    "\n",
    "    return X, y\n",
    "\n",
    "def split_and_save(X, y):\n",
    "    X_train, X_temp, y_train, y_temp = train_test_split(X, y, test_size=0.3, random_state=42)\n",
    "    X_val, X_test, y_val, y_test = train_test_split(X_temp, y_temp, test_size=0.5, random_state=42)\n",
    "\n",
    "    np.savez_compressed(os.path.join(SAVE_DIR, 'train.npz'), X=X_train, y=y_train)\n",
    "    np.savez_compressed(os.path.join(SAVE_DIR, 'val.npz'), X=X_val, y=y_val)\n",
    "    np.savez_compressed(os.path.join(SAVE_DIR, 'test.npz'), X=X_test, y=y_test)\n",
    "\n",
    "    print(\"✅ Data saved to:\", SAVE_DIR)\n",
    "\n"
   ]
  },
  {
   "cell_type": "code",
   "execution_count": 2,
   "id": "8c9ce5f5",
   "metadata": {},
   "outputs": [
    {
     "name": "stdout",
     "output_type": "stream",
     "text": [
      "Processing video1...\n",
      "Processing video2...\n"
     ]
    },
    {
     "ename": "",
     "evalue": "",
     "output_type": "error",
     "traceback": [
      "\u001b[1;31mThe Kernel crashed while executing code in the current cell or a previous cell. \n",
      "\u001b[1;31mPlease review the code in the cell(s) to identify a possible cause of the failure. \n",
      "\u001b[1;31mClick <a href='https://aka.ms/vscodeJupyterKernelCrash'>here</a> for more info. \n",
      "\u001b[1;31mView Jupyter <a href='command:jupyter.viewOutput'>log</a> for further details."
     ]
    }
   ],
   "source": [
    "# Run processing\n",
    "X, y = prepare_dataset()\n",
    "split_and_save(X, y)\n"
   ]
  },
  {
   "cell_type": "code",
   "execution_count": null,
   "id": "90e5d0c9",
   "metadata": {},
   "outputs": [],
   "source": []
  }
 ],
 "metadata": {
  "kernelspec": {
   "display_name": "Python 3",
   "language": "python",
   "name": "python3"
  },
  "language_info": {
   "codemirror_mode": {
    "name": "ipython",
    "version": 3
   },
   "file_extension": ".py",
   "mimetype": "text/x-python",
   "name": "python",
   "nbconvert_exporter": "python",
   "pygments_lexer": "ipython3",
   "version": "3.11.13"
  }
 },
 "nbformat": 4,
 "nbformat_minor": 5
}
